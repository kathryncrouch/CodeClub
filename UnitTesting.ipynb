{
 "cells": [
  {
   "cell_type": "markdown",
   "metadata": {},
   "source": [
    "# Unit Testing\n",
    "\n",
    "Unit testing is the integration of checks into your code that test that individual units of your code (e.g. functions or methods) behave in the way you expect them to.\n",
    "\n",
    "### Why Is It Important?\n",
    "\n",
    "**<a href=\"http://www.sciencemag.org/content/314/5807/1856.full\">A Scientist's Nightmare</a>**\n",
    "\n",
    "This 2006 article from Science describes the retraction of 5 papers due to a software error in which two columns of data were accidentally swapped.\n",
    "\n",
    "While most errors of this type will be obvious, some are not!\n",
    "\n",
    "Testing allows us to catch these errors during the development process and check for error regression as we re-factor code.\n",
    "\n",
    "### The Example\n",
    "\n",
    "I am going to use a single example function to describe the process of writing tests.  The function will take a DNA or protein sequence as a string and return all the kmers of length k that occur more than n times.\n",
    "\n",
    "The first example is deliberately badly written so I can go through the process of refactoring!"
   ]
  },
  {
   "cell_type": "code",
   "execution_count": null,
   "metadata": {
    "collapsed": false
   },
   "outputs": [],
   "source": [
    "# return kmers of length k that occur more than n times in the sequences\n",
    "\n",
    "def findKmers(sequence, k, n):\n",
    "    units = list(sequence)\n",
    "    result = []\n",
    "    for start in range(len(units) +1 -k):\n",
    "        kmer = ''.join(units[start:start+k])\n",
    "        if sequence.count(kmer) >= n:\n",
    "            result.append(kmer)\n",
    "    return result\n",
    "\n",
    "findKmers('ATGATGA', 3, 2)\n",
    "\n",
    "        "
   ]
  },
  {
   "cell_type": "markdown",
   "metadata": {},
   "source": [
    "### A Bug\n",
    "\n",
    "This function returns the correct kmers, but a kmer that occurs twice will appear in the list twice. \n",
    "\n",
    "If we had run this on an entire genome, we might never have noticed this error.\n",
    "\n",
    "### Write the test **THEN** fix the bug!\n",
    "\n",
    "Assert is a keyword built into Python.  It runs a function with a known input, and then checks the output against what you expect it to be.  If the test passes, assert runs silently.  If it fails, your script will exit with an error.\n"
   ]
  },
  {
   "cell_type": "code",
   "execution_count": null,
   "metadata": {
    "collapsed": false
   },
   "outputs": [],
   "source": [
    "# this statement will test for the behaviour we want - at this point we expect it to fail!\n",
    "assert findKmers('ATGATGA', 3, 2) == ['ATG', 'TGA']"
   ]
  },
  {
   "cell_type": "markdown",
   "metadata": {},
   "source": [
    "Now we can fix the bug.  In a script, we would fix it *in situ* and leave the assert statement in place - here I will write them out again."
   ]
  },
  {
   "cell_type": "code",
   "execution_count": null,
   "metadata": {
    "collapsed": false
   },
   "outputs": [],
   "source": [
    "# fix by adding an extra clause to the if statement\n",
    "\n",
    "def findKmers(sequence, k, n):\n",
    "    units = list(sequence)\n",
    "    result = []\n",
    "    for start in range(len(units) +1 -k):\n",
    "        kmer = ''.join(units[start:start+k])\n",
    "        if sequence.count(kmer) >= n and kmer not in result:\n",
    "            result.append(kmer)\n",
    "    return result\n",
    "\n",
    "assert findKmers('ATGATGA', 3, 2) == ['ATG', 'TGA']\n",
    "\n",
    "findKmers('GATCGATCGATC', 3, 2)\n"
   ]
  },
  {
   "cell_type": "markdown",
   "metadata": {},
   "source": [
    "The assert statment passed and the script has gone on to find kmers in another input sequence.\n",
    "\n",
    "### Making a Suite of Tests\n",
    "\n",
    "You could, of course, write infinite tests.  A good approach is to test the extreme ends of what you expect your input to be."
   ]
  },
  {
   "cell_type": "code",
   "execution_count": null,
   "metadata": {
    "collapsed": false
   },
   "outputs": [],
   "source": [
    "# Test limits of k\n",
    "assert findKmers('ATGATGA', 1, 1) == ['A', 'T', 'G']\n",
    "assert findKmers('ATGATGA', 7, 1) == ['ATGATGA']\n",
    "\n",
    "#Test limits of n\n",
    "assert findKmers('ATGATGA', 2, 1) == ['AT', 'TG', 'GA']\n",
    "assert findKmers('ATGATGA', 1, 3) == ['A']"
   ]
  },
  {
   "cell_type": "markdown",
   "metadata": {},
   "source": [
    "Another useful thing to do is test unrealistic input.\n",
    "\n",
    "What would happen if we ran this function on our test input with a value of k=8?  In order to write a test, we need to think about what we **want** this behaviour to be.  This can be a useful exercise in it's own right.  \n",
    "\n",
    "In this case, we return an empty list.  This is something we can easily check for downstream so I will stick with it."
   ]
  },
  {
   "cell_type": "code",
   "execution_count": null,
   "metadata": {
    "collapsed": true
   },
   "outputs": [],
   "source": [
    "# Test unreasonable inputs\n",
    "assert findKmers('ATGATGA', 8, 1) == []"
   ]
  },
  {
   "cell_type": "markdown",
   "metadata": {},
   "source": [
    "### Refactoring and Regressions\n",
    "\n",
    "You have probably already spotted this, but this code will not scale well to large sequences. This is because:\n",
    "* The .count() method scales linearly with the length of the string it queries\n",
    "* Every time we add a new kmer to the results list, we scan the list to check if it is already there.  This scales linearly as the list grows\n",
    "* The number of iterations of the for loop scales linearly with the length of the sequence\n",
    "\n",
    "We can improve the efficiency of the function without changing the inputs or the outputs - this is called refactoring."
   ]
  },
  {
   "cell_type": "code",
   "execution_count": null,
   "metadata": {
    "collapsed": false
   },
   "outputs": [],
   "source": [
    "# Our more efficient new function\n",
    "# We will use a dict to keep track of how many times we see each kmer\n",
    "\n",
    "def findKmers(sequence, k, n):\n",
    "    units = list(sequence)\n",
    "    kmerCounts = {}\n",
    "    for start in range(len(units) +1 - k):\n",
    "        kmer = ''.join(units[start:start+k])\n",
    "        currentCount = kmerCounts.get(kmer, 0)\n",
    "        kmerCounts[kmer] = currentCount + 1\n",
    "    \n",
    "    # now return just the kmers with count > cutoff\n",
    "    result = []\n",
    "    for kmer, count in kmerCounts.items():\n",
    "        if count >= n:\n",
    "            result.append(kmer)\n",
    "        \n",
    "    return result\n",
    "\n",
    "# And now we should re-run our tests\n",
    "# Test limits of k\n",
    "assert findKmers('ATGATGA', 1, 1) == ['A', 'T', 'G']\n",
    "assert findKmers('ATGATGA', 7, 1) == ['ATGATGA']\n",
    "\n",
    "#Test limits of n\n",
    "assert findKmers('ATGATGA', 2, 1) == ['AT', 'TG', 'GA']\n",
    "assert findKmers('ATGATGA', 1, 3) == ['A']\n",
    "\n",
    "# Test unreasonable inputs\n",
    "assert findKmers('ATGATGA', 8, 1) == []"
   ]
  },
  {
   "cell_type": "markdown",
   "metadata": {},
   "source": [
    "Our tests have failed!  But it is not easy to see why.  There are more sophisticated tools we can use for this.  In Python, these include:\n",
    "\n",
    "* unittest (builtin)\n",
    "* nose (a wrapper for unittest)\n",
    "* pytest\n",
    "\n",
    "And probably many others!\n",
    "\n",
    "Let's have a look at unittest."
   ]
  },
  {
   "cell_type": "code",
   "execution_count": null,
   "metadata": {
    "collapsed": false
   },
   "outputs": [],
   "source": [
    "# Note this code won't run in Jupyter\n",
    "import unittest\n",
    "\n",
    "class TestKmerMethods(unittest.TestCase):\n",
    "\n",
    "    def test_findKmers(self):\n",
    "        # limits of k\n",
    "        self.assertEqual(findKmers('ATGATGA', 1, 1), ['A', 'T', 'G'])\n",
    "        self.assertEqual(findKmers('ATGATGA', 7, 1), ['ATGATGA'])\n",
    "        \n",
    "        #limits of n\n",
    "        self.assertEqual(findKmers('ATGATGA', 2, 1), ['AT', 'TG', 'GA'])\n",
    "        self.assertEqual(findKmers('ATGATGA', 1, 3), ['A'])\n",
    "        \n",
    "        #unreasonable inputs\n",
    "        self.assertEqual(findKmers('ATGATGA', 8, 1), [])  \n",
    "\n",
    "if __name__ == '__main__':\n",
    "    unittest.main()"
   ]
  },
  {
   "cell_type": "raw",
   "metadata": {},
   "source": [
    "======================================================================\n",
    "FAIL: test_findKmers (__main__.TestKmerMethods)\n",
    "----------------------------------------------------------------------\n",
    "Traceback (most recent call last):\n",
    "  File \"testing.py\", line 24, in test_findKmers\n",
    "    self.assertEqual(findKmers('ATGATGA', 1, 1), ['A', 'T', 'G'])\n",
    "AssertionError: Lists differ: ['T', 'A', 'G'] != ['A', 'T', 'G']\n",
    "\n",
    "First differing element 0:\n",
    "T\n",
    "A\n",
    "\n",
    "- ['T', 'A', 'G']\n",
    "+ ['A', 'T', 'G']\n",
    "\n",
    "----------------------------------------------------------------------\n",
    "Ran 1 test in 0.001s\n",
    "\n",
    "FAILED (failures=1)"
   ]
  },
  {
   "cell_type": "markdown",
   "metadata": {},
   "source": [
    "### Regression\n",
    "\n",
    "Regression is something that is important to mention here -  it is the tendency for old bugs to come back when you refactor code and is an important reason to build test suites.  However, I couldn't come up with an artificial example, so I won't discuss it further here!\n",
    "\n",
    "### Checking your tests are appropriate\n",
    "\n",
    "If you look at the output from unittest, you can see why the test failed.  The items in the list that the function returns are the same - but they are in different orders.  That is because we changed from using a list, where the order of the items is predictable, to a dict, where the order of keys is random.  If this is acceptable, we need to change the test and not the code.  This is another example of how testing can make us think more carefully about our code.\n",
    "\n",
    "Unittest has a method to deal with this.  assertCountEqual checks that the *elements* in a sequence appear the same number of times, regardless of their order:"
   ]
  },
  {
   "cell_type": "code",
   "execution_count": null,
   "metadata": {
    "collapsed": false
   },
   "outputs": [],
   "source": [
    "# Again, this code won't run in Jupyter\n",
    "class TestKmerMethods(unittest.TestCase):\n",
    "\n",
    "    def test_findKmers(self):\n",
    "        # limits of k\n",
    "        self.assertCountEqual(findKmers('ATGATGA', 1, 1), ['A', 'T', 'G'])\n",
    "        self.assertCountEqual(findKmers('ATGATGA', 7, 1), ['ATGATGA'])\n",
    "        \n",
    "        #limits of n\n",
    "        self.assertCountEqual(findKmers('ATGATGA', 2, 1), ['AT', 'TG', 'GA'])\n",
    "        self.assertCountEqual(findKmers('ATGATGA', 1, 3), ['A'])\n",
    "        \n",
    "        #unreasonable inputs\n",
    "        self.assertCountEqual(findKmers('ATGATGA', 8, 1), [])  \n",
    "\n",
    "if __name__ == '__main__':\n",
    "    unittest.main()"
   ]
  },
  {
   "cell_type": "raw",
   "metadata": {},
   "source": [
    ".\n",
    "----------------------------------------------------------------------\n",
    "Ran 1 test in 0.000s\n",
    "\n",
    "OK\n"
   ]
  },
  {
   "cell_type": "markdown",
   "metadata": {},
   "source": [
    "### Other Things Unittest Can Do\n",
    "\n",
    "* Test discovery\n",
    "* Set-up and tear-down (allows construction of tests for functions that can change state)\n",
    "* assertAlmostEqual - will handle errors caused by doing floating point calculations\n",
    "* Testing exception handling\n",
    "\n",
    "<a href=https://docs.python.org/3.4/library/unittest.html>unittest documentation</a>"
   ]
  }
 ],
 "metadata": {
  "kernelspec": {
   "display_name": "Python 3",
   "language": "python",
   "name": "python3"
  },
  "language_info": {
   "codemirror_mode": {
    "name": "ipython",
    "version": 3
   },
   "file_extension": ".py",
   "mimetype": "text/x-python",
   "name": "python",
   "nbconvert_exporter": "python",
   "pygments_lexer": "ipython3",
   "version": "3.4.3"
  }
 },
 "nbformat": 4,
 "nbformat_minor": 0
}
